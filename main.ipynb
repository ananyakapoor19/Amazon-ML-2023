{
 "cells": [
  {
   "cell_type": "code",
   "execution_count": 1,
   "id": "e411df0b",
   "metadata": {},
   "outputs": [],
   "source": [
    "import numpy as np\n",
    "import pandas as pd\n",
    "import matplotlib.pyplot as plt\n",
    "import math\n",
    "import seaborn as sns\n",
    "import nltk"
   ]
  },
  {
   "cell_type": "code",
   "execution_count": 2,
   "id": "92f63163",
   "metadata": {},
   "outputs": [],
   "source": [
    "data = pd.read_csv(\"C:\\\\Users\\\\jia\\\\Downloads\\\\datasetb2d9982\\\\dataset\\\\train.csv\")"
   ]
  },
  {
   "cell_type": "code",
   "execution_count": 3,
   "id": "f7dd811b",
   "metadata": {},
   "outputs": [
    {
     "data": {
      "text/html": [
       "<div>\n",
       "<style scoped>\n",
       "    .dataframe tbody tr th:only-of-type {\n",
       "        vertical-align: middle;\n",
       "    }\n",
       "\n",
       "    .dataframe tbody tr th {\n",
       "        vertical-align: top;\n",
       "    }\n",
       "\n",
       "    .dataframe thead th {\n",
       "        text-align: right;\n",
       "    }\n",
       "</style>\n",
       "<table border=\"1\" class=\"dataframe\">\n",
       "  <thead>\n",
       "    <tr style=\"text-align: right;\">\n",
       "      <th></th>\n",
       "      <th>PRODUCT_ID</th>\n",
       "      <th>TITLE</th>\n",
       "      <th>BULLET_POINTS</th>\n",
       "      <th>DESCRIPTION</th>\n",
       "      <th>PRODUCT_TYPE_ID</th>\n",
       "      <th>PRODUCT_LENGTH</th>\n",
       "    </tr>\n",
       "  </thead>\n",
       "  <tbody>\n",
       "    <tr>\n",
       "      <th>0</th>\n",
       "      <td>1925202</td>\n",
       "      <td>ArtzFolio Tulip Flowers Blackout Curtain for D...</td>\n",
       "      <td>[LUXURIOUS &amp; APPEALING: Beautiful custom-made ...</td>\n",
       "      <td>NaN</td>\n",
       "      <td>1650</td>\n",
       "      <td>2125.980000</td>\n",
       "    </tr>\n",
       "    <tr>\n",
       "      <th>1</th>\n",
       "      <td>2673191</td>\n",
       "      <td>Marks &amp; Spencer Girls' Pyjama Sets T86_2561C_N...</td>\n",
       "      <td>[Harry Potter Hedwig Pyjamas (6-16 Yrs),100% c...</td>\n",
       "      <td>NaN</td>\n",
       "      <td>2755</td>\n",
       "      <td>393.700000</td>\n",
       "    </tr>\n",
       "    <tr>\n",
       "      <th>2</th>\n",
       "      <td>2765088</td>\n",
       "      <td>PRIKNIK Horn Red Electric Air Horn Compressor ...</td>\n",
       "      <td>[Loud Dual Tone Trumpet Horn, Compatible With ...</td>\n",
       "      <td>Specifications: Color: Red, Material: Aluminiu...</td>\n",
       "      <td>7537</td>\n",
       "      <td>748.031495</td>\n",
       "    </tr>\n",
       "    <tr>\n",
       "      <th>3</th>\n",
       "      <td>1594019</td>\n",
       "      <td>ALISHAH Women's Cotton Ankle Length Leggings C...</td>\n",
       "      <td>[Made By 95%cotton and 5% Lycra which gives yo...</td>\n",
       "      <td>AISHAH Women's Lycra Cotton Ankel Leggings. Br...</td>\n",
       "      <td>2996</td>\n",
       "      <td>787.401574</td>\n",
       "    </tr>\n",
       "    <tr>\n",
       "      <th>4</th>\n",
       "      <td>283658</td>\n",
       "      <td>The United Empire Loyalists: A Chronicle of th...</td>\n",
       "      <td>NaN</td>\n",
       "      <td>NaN</td>\n",
       "      <td>6112</td>\n",
       "      <td>598.424000</td>\n",
       "    </tr>\n",
       "  </tbody>\n",
       "</table>\n",
       "</div>"
      ],
      "text/plain": [
       "   PRODUCT_ID                                              TITLE  \\\n",
       "0     1925202  ArtzFolio Tulip Flowers Blackout Curtain for D...   \n",
       "1     2673191  Marks & Spencer Girls' Pyjama Sets T86_2561C_N...   \n",
       "2     2765088  PRIKNIK Horn Red Electric Air Horn Compressor ...   \n",
       "3     1594019  ALISHAH Women's Cotton Ankle Length Leggings C...   \n",
       "4      283658  The United Empire Loyalists: A Chronicle of th...   \n",
       "\n",
       "                                       BULLET_POINTS  \\\n",
       "0  [LUXURIOUS & APPEALING: Beautiful custom-made ...   \n",
       "1  [Harry Potter Hedwig Pyjamas (6-16 Yrs),100% c...   \n",
       "2  [Loud Dual Tone Trumpet Horn, Compatible With ...   \n",
       "3  [Made By 95%cotton and 5% Lycra which gives yo...   \n",
       "4                                                NaN   \n",
       "\n",
       "                                         DESCRIPTION  PRODUCT_TYPE_ID  \\\n",
       "0                                                NaN             1650   \n",
       "1                                                NaN             2755   \n",
       "2  Specifications: Color: Red, Material: Aluminiu...             7537   \n",
       "3  AISHAH Women's Lycra Cotton Ankel Leggings. Br...             2996   \n",
       "4                                                NaN             6112   \n",
       "\n",
       "   PRODUCT_LENGTH  \n",
       "0     2125.980000  \n",
       "1      393.700000  \n",
       "2      748.031495  \n",
       "3      787.401574  \n",
       "4      598.424000  "
      ]
     },
     "execution_count": 3,
     "metadata": {},
     "output_type": "execute_result"
    }
   ],
   "source": [
    "data.head()"
   ]
  },
  {
   "cell_type": "code",
   "execution_count": 4,
   "id": "55501f22",
   "metadata": {},
   "outputs": [
    {
     "name": "stdout",
     "output_type": "stream",
     "text": [
      "2249698\n"
     ]
    }
   ],
   "source": [
    "print(len(data))"
   ]
  },
  {
   "cell_type": "code",
   "execution_count": 5,
   "id": "d4611923",
   "metadata": {},
   "outputs": [
    {
     "name": "stdout",
     "output_type": "stream",
     "text": [
      "1038460\n"
     ]
    }
   ],
   "source": [
    "data = data.drop_duplicates(subset=['PRODUCT_ID'])\n",
    "data = data.dropna()\n",
    "print(len(data))"
   ]
  },
  {
   "cell_type": "code",
   "execution_count": 6,
   "id": "d33d4c65",
   "metadata": {},
   "outputs": [],
   "source": [
    "prod_len = data['PRODUCT_LENGTH'].values"
   ]
  },
  {
   "cell_type": "code",
   "execution_count": 17,
   "id": "de05ef34",
   "metadata": {},
   "outputs": [],
   "source": [
    "for i in range(20):\n",
    "    z_scores = np.abs((data['PRODUCT_LENGTH']-data['PRODUCT_LENGTH'].mean())/data['PRODUCT_LENGTH'].std())\n",
    "    threshold=3\n",
    "    data = data[z_scores<threshold]"
   ]
  },
  {
   "cell_type": "code",
   "execution_count": 18,
   "id": "4e93f9cd",
   "metadata": {},
   "outputs": [
    {
     "name": "stdout",
     "output_type": "stream",
     "text": [
      "923663\n",
      "1.0 2066.0\n"
     ]
    }
   ],
   "source": [
    "df=data\n",
    "# del data\n",
    "print(len(df))\n",
    "print(min(df['PRODUCT_LENGTH']),max(df['PRODUCT_LENGTH']))"
   ]
  },
  {
   "cell_type": "code",
   "execution_count": 9,
   "id": "8e5dc18c",
   "metadata": {},
   "outputs": [
    {
     "data": {
      "text/plain": [
       "<seaborn.axisgrid.FacetGrid at 0x1f10c6ac370>"
      ]
     },
     "execution_count": 9,
     "metadata": {},
     "output_type": "execute_result"
    },
    {
     "data": {
      "image/png": "[encoded data removed]",
      "text/plain": [
       "<Figure size 540x360 with 1 Axes>"
      ]
     },
     "metadata": {},
     "output_type": "display_data"
    }
   ],
   "source": [
    "sns.set_style(\"white\")\n",
    "sns.set_context(\"paper\",font_scale=2)\n",
    "sns.displot(data=df,x='PRODUCT_LENGTH',kind=\"hist\",bins=100,aspect=1.5)"
   ]
  },
  {
   "cell_type": "code",
   "execution_count": 10,
   "id": "f2a0bf8c",
   "metadata": {},
   "outputs": [],
   "source": [
    "df['PRODUCT_LENGTH'] = np.log(df['PRODUCT_LENGTH'])"
   ]
  },
  {
   "cell_type": "code",
   "execution_count": 11,
   "id": "3417db63",
   "metadata": {},
   "outputs": [
    {
     "data": {
      "text/plain": [
       "<seaborn.axisgrid.FacetGrid at 0x1f10c7fcd30>"
      ]
     },
     "execution_count": 11,
     "metadata": {},
     "output_type": "execute_result"
    },
    {
     "data": {
      "image/png": "[encoded data removed]",
      "text/plain": [
       "<Figure size 540x360 with 1 Axes>"
      ]
     },
     "metadata": {},
     "output_type": "display_data"
    }
   ],
   "source": [
    "sns.set_style(\"white\")\n",
    "sns.set_context(\"paper\",font_scale=2)\n",
    "sns.displot(data=df,x='PRODUCT_LENGTH',kind=\"hist\",bins=100,aspect=1.5)"
   ]
  },
  {
   "cell_type": "code",
   "execution_count": 12,
   "id": "796779bd",
   "metadata": {},
   "outputs": [
    {
     "name": "stderr",
     "output_type": "stream",
     "text": [
      "[nltk_data] Downloading package stopwords to\n",
      "[nltk_data]     C:\\Users\\jia\\AppData\\Roaming\\nltk_data...\n",
      "[nltk_data]   Package stopwords is already up-to-date!\n"
     ]
    },
    {
     "data": {
      "text/plain": [
       "True"
      ]
     },
     "execution_count": 12,
     "metadata": {},
     "output_type": "execute_result"
    }
   ],
   "source": [
    "import re\n",
    "import string\n",
    "from nltk.corpus import stopwords\n",
    "nltk.download('stopwords')"
   ]
  },
  {
   "cell_type": "code",
   "execution_count": 13,
   "id": "90c3a2c8",
   "metadata": {},
   "outputs": [],
   "source": [
    "def clean_text(text):\n",
    "    # Convert all text to lowercase\n",
    "    text = text.lower()\n",
    "    \n",
    "    # Remove all punctuation\n",
    "    text = text.translate(str.maketrans('', '', string.punctuation))\n",
    "    \n",
    "    # Remove all digits\n",
    "    text = re.sub(r'\\d+', '', text)\n",
    "    \n",
    "    # Remove all extra whitespace\n",
    "    text = re.sub(r'\\s+', ' ', text).strip()\n",
    "    \n",
    "    # Remove all stop words (optional)\n",
    "    stop_words = set(stopwords.words('english'))\n",
    "    text = ' '.join([word for word in text.split() if word not in stop_words])\n",
    "    \n",
    "    return text\n",
    "\n",
    "# Apply the clean_text function to the DESCRIPTION column in the df DataFrame\n",
    "df['DESCRIPTION'] = df['DESCRIPTION'].apply(clean_text)\n",
    "df['TITLE'] = df['TITLE'].apply(clean_text)\n",
    "df['BULLET_POINTS'] = df['BULLET_POINTS'].apply(clean_text)\n"
   ]
  },
  {
   "cell_type": "code",
   "execution_count": 14,
   "id": "4bed9f71",
   "metadata": {},
   "outputs": [
    {
     "name": "stderr",
     "output_type": "stream",
     "text": [
      "[nltk_data] Downloading package punkt to\n",
      "[nltk_data]     C:\\Users\\jia\\AppData\\Roaming\\nltk_data...\n",
      "[nltk_data]   Package punkt is already up-to-date!\n"
     ]
    },
    {
     "data": {
      "text/plain": [
       "True"
      ]
     },
     "execution_count": 14,
     "metadata": {},
     "output_type": "execute_result"
    }
   ],
   "source": [
    "import nltk\n",
    "\n",
    "nltk.download('punkt')"
   ]
  },
  {
   "cell_type": "code",
   "execution_count": 15,
   "id": "24da6c98",
   "metadata": {},
   "outputs": [],
   "source": [
    "from nltk.stem import PorterStemmer\n",
    "\n",
    "# initialize Porter stemmer\n",
    "stemmer = PorterStemmer()\n",
    "\n",
    "# define a function to apply stemming to a text\n",
    "def apply_stemming(text):\n",
    "    # tokenize text into words\n",
    "    words = nltk.word_tokenize(text)\n",
    "    # apply stemming to each word\n",
    "    stemmed_words = [stemmer.stem(word) for word in words]\n",
    "    # join stemmed words into a single string\n",
    "    stemmed_text = \" \".join(stemmed_words)\n",
    "    return stemmed_text\n",
    "\n",
    "# apply stemming to a column of the dataset\n",
    "df['DESCRIPTION'] = df['DESCRIPTION'].apply(apply_stemming)\n",
    "df['TITLE'] = df['TITLE'].apply(apply_stemming)\n",
    "df['BULLET_POINTS'] = df['BULLET_POINTS'].apply(apply_stemming)\n"
   ]
  },
  {
   "cell_type": "code",
   "execution_count": 16,
   "id": "57a0f076",
   "metadata": {},
   "outputs": [
    {
     "name": "stderr",
     "output_type": "stream",
     "text": [
      "[nltk_data] Downloading package punkt to\n",
      "[nltk_data]     C:\\Users\\jia\\AppData\\Roaming\\nltk_data...\n",
      "[nltk_data]   Package punkt is already up-to-date!\n"
     ]
    }
   ],
   "source": [
    "from nltk.tokenize import word_tokenize\n",
    "nltk.download('punkt')\n",
    "\n",
    "df['DESCRIPTION'] = df['DESCRIPTION'].apply(lambda x: word_tokenize(x))\n",
    "df['TITLE'] = df['TITLE'].apply(lambda x: word_tokenize(x))\n",
    "df['BULLET_POINTS'] = df['BULLET_POINTS'].apply(lambda x: word_tokenize(x))"
   ]
  },
  {
   "cell_type": "code",
   "execution_count": 17,
   "id": "032c4d76",
   "metadata": {},
   "outputs": [],
   "source": [
    "from sklearn.preprocessing import LabelEncoder\n",
    "\n",
    "# Initialize LabelEncoder\n",
    "le = LabelEncoder()\n",
    "\n",
    "# Fit and transform PRODUCT_TYPE_ID column\n",
    "df['PRODUCT_TYPE_ID'] = le.fit_transform(df['PRODUCT_TYPE_ID'])\n"
   ]
  },
  {
   "cell_type": "code",
   "execution_count": 18,
   "id": "606a86ea",
   "metadata": {},
   "outputs": [
    {
     "data": {
      "text/html": [
       "<div>\n",
       "<style scoped>\n",
       "    .dataframe tbody tr th:only-of-type {\n",
       "        vertical-align: middle;\n",
       "    }\n",
       "\n",
       "    .dataframe tbody tr th {\n",
       "        vertical-align: top;\n",
       "    }\n",
       "\n",
       "    .dataframe thead th {\n",
       "        text-align: right;\n",
       "    }\n",
       "</style>\n",
       "<table border=\"1\" class=\"dataframe\">\n",
       "  <thead>\n",
       "    <tr style=\"text-align: right;\">\n",
       "      <th></th>\n",
       "      <th>PRODUCT_ID</th>\n",
       "      <th>TITLE</th>\n",
       "      <th>BULLET_POINTS</th>\n",
       "      <th>DESCRIPTION</th>\n",
       "      <th>PRODUCT_TYPE_ID</th>\n",
       "      <th>PRODUCT_LENGTH</th>\n",
       "    </tr>\n",
       "  </thead>\n",
       "  <tbody>\n",
       "    <tr>\n",
       "      <th>2</th>\n",
       "      <td>2765088</td>\n",
       "      <td>[priknik, horn, red, electr, air, horn, compre...</td>\n",
       "      <td>[loud, dual, tone, trumpet, horn, compat, sxel...</td>\n",
       "      <td>[specif, color, red, materi, aluminium, voltag...</td>\n",
       "      <td>6411</td>\n",
       "      <td>6.617445</td>\n",
       "    </tr>\n",
       "    <tr>\n",
       "      <th>3</th>\n",
       "      <td>1594019</td>\n",
       "      <td>[alishah, women, cotton, ankl, length, leg, co...</td>\n",
       "      <td>[made, cotton, lycra, give, way, stretchabl, c...</td>\n",
       "      <td>[aishah, women, lycra, cotton, ankel, leg, bra...</td>\n",
       "      <td>2663</td>\n",
       "      <td>6.668738</td>\n",
       "    </tr>\n",
       "    <tr>\n",
       "      <th>5</th>\n",
       "      <td>2152929</td>\n",
       "      <td>[hin, metal, bucket, shape, plant, pot, indoor...</td>\n",
       "      <td>[simpl, eleg, great, display, indoor, plant, l...</td>\n",
       "      <td>[hin, bring, eleg, look, pot, stand, durabl, l...</td>\n",
       "      <td>5027</td>\n",
       "      <td>6.856462</td>\n",
       "    </tr>\n",
       "    <tr>\n",
       "      <th>7</th>\n",
       "      <td>2026580</td>\n",
       "      <td>[delavala, self, adhes, kitchen, backsplash, w...</td>\n",
       "      <td>[high, qualiti, pvc, materi, kitchen, aluminum...</td>\n",
       "      <td>[pstrongaluminum, foil, stickersgood, kitchen,...</td>\n",
       "      <td>5269</td>\n",
       "      <td>6.891882</td>\n",
       "    </tr>\n",
       "    <tr>\n",
       "      <th>9</th>\n",
       "      <td>2998633</td>\n",
       "      <td>[hexwel, essenti, oil, home, fragranc, oil, ar...</td>\n",
       "      <td>[pure, natur, essenti, oil, fragranc, oil, bot...</td>\n",
       "      <td>[transform, home, workplac, hotel, room, perso...</td>\n",
       "      <td>6982</td>\n",
       "      <td>5.975591</td>\n",
       "    </tr>\n",
       "  </tbody>\n",
       "</table>\n",
       "</div>"
      ],
      "text/plain": [
       "   PRODUCT_ID                                              TITLE  \\\n",
       "2     2765088  [priknik, horn, red, electr, air, horn, compre...   \n",
       "3     1594019  [alishah, women, cotton, ankl, length, leg, co...   \n",
       "5     2152929  [hin, metal, bucket, shape, plant, pot, indoor...   \n",
       "7     2026580  [delavala, self, adhes, kitchen, backsplash, w...   \n",
       "9     2998633  [hexwel, essenti, oil, home, fragranc, oil, ar...   \n",
       "\n",
       "                                       BULLET_POINTS  \\\n",
       "2  [loud, dual, tone, trumpet, horn, compat, sxel...   \n",
       "3  [made, cotton, lycra, give, way, stretchabl, c...   \n",
       "5  [simpl, eleg, great, display, indoor, plant, l...   \n",
       "7  [high, qualiti, pvc, materi, kitchen, aluminum...   \n",
       "9  [pure, natur, essenti, oil, fragranc, oil, bot...   \n",
       "\n",
       "                                         DESCRIPTION  PRODUCT_TYPE_ID  \\\n",
       "2  [specif, color, red, materi, aluminium, voltag...             6411   \n",
       "3  [aishah, women, lycra, cotton, ankel, leg, bra...             2663   \n",
       "5  [hin, bring, eleg, look, pot, stand, durabl, l...             5027   \n",
       "7  [pstrongaluminum, foil, stickersgood, kitchen,...             5269   \n",
       "9  [transform, home, workplac, hotel, room, perso...             6982   \n",
       "\n",
       "   PRODUCT_LENGTH  \n",
       "2        6.617445  \n",
       "3        6.668738  \n",
       "5        6.856462  \n",
       "7        6.891882  \n",
       "9        5.975591  "
      ]
     },
     "execution_count": 18,
     "metadata": {},
     "output_type": "execute_result"
    }
   ],
   "source": [
    "df.head()"
   ]
  },
  {
   "cell_type": "code",
   "execution_count": 19,
   "id": "4e107c38",
   "metadata": {},
   "outputs": [],
   "source": [
    "df.to_csv('stem_df.csv', index=False)"
   ]
  },
  {
   "cell_type": "code",
   "execution_count": 20,
   "id": "0bfa848a",
   "metadata": {},
   "outputs": [],
   "source": [
    "df.to_csv('stem_df_duplicate.csv', index=False)"
   ]
  },
  {
   "cell_type": "code",
   "execution_count": null,
   "id": "39d65baa",
   "metadata": {},
   "outputs": [],
   "source": [
    "# from sklearn.feature_extraction.text import TfidfVectorizer\n",
    "\n",
    "# vectorizer = TfidfVectorizer()\n",
    "\n",
    "# tfidf_matrix = vectorizer.fit_transform(df['DESCRIPTION'])\n",
    "\n",
    "# tfidf_df = pd.DataFrame(tfidf_matrix.toarray(), columns=vectorizer.get_feature_names())\n",
    "\n",
    "# df = pd.concat([df, tfidf_df], axis=1)"
   ]
  },
  {
   "cell_type": "code",
   "execution_count": null,
   "id": "e057e711",
   "metadata": {},
   "outputs": [],
   "source": [
    "from sklearn.feature_extraction.text import TfidfVectorizer\n",
    "from sklearn.model_selection import train_test_split"
   ]
  },
  {
   "cell_type": "code",
   "execution_count": null,
   "id": "0608c935",
   "metadata": {},
   "outputs": [],
   "source": [
    "X_train, X_test, y_train, y_test = train_test_split(df[['TITLE', 'BULLET_POINTS', 'DESCRIPTION', 'PRODUCT_LENGTH']], df['PRODUCT_LENGTH'], test_size=0.2, random_state=42)\n",
    "\n",
    "# create a TF-IDF vectorizer\n",
    "tfidf_vectorizer = TfidfVectorizer()\n",
    "\n",
    "# vectorize the text columns\n",
    "X_train_text = tfidf_vectorizer.fit_transform(X_train[['TITLE', 'BULLET_POINTS', 'DESCRIPTION']].apply(lambda x: ' '.join(x), axis=1))\n",
    "X_test_text = tfidf_vectorizer.transform(X_test[['TITLE', 'BULLET_POINTS', 'DESCRIPTION']].apply(lambda x: ' '.join(x), axis=1))\n",
    "\n",
    "# combine the vectorized text columns and normalized PRODUCT_LENGTH into a single feature matrix\n",
    "X_train = pd.concat([pd.DataFrame(X_train_text.toarray()), X_train['PRODUCT_LENGTH']], axis=1)\n",
    "X_test = pd.concat([pd.DataFrame(X_test_text.toarray()), X_test['PRODUCT_LENGTH']], axis=1)"
   ]
  }
 ],
 "metadata": {
  "kernelspec": {
   "display_name": "Python 3 (ipykernel)",
   "language": "python",
   "name": "python3"
  },
  "language_info": {
   "codemirror_mode": {
    "name": "ipython",
    "version": 3
   },
   "file_extension": ".py",
   "mimetype": "text/x-python",
   "name": "python",
   "nbconvert_exporter": "python",
   "pygments_lexer": "ipython3",
   "version": "3.9.12"
  }
 },
 "nbformat": 4,
 "nbformat_minor": 5
}
